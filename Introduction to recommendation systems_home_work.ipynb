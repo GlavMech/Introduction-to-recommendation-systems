{
 "cells": [
  {
   "cell_type": "code",
   "execution_count": 1,
   "id": "d3a9c358",
   "metadata": {},
   "outputs": [
    {
     "name": "stdout",
     "output_type": "stream",
     "text": [
      "🎬 Топ-3 рекомендации для пользователя 7:\n",
      "\n",
      "Matrix, The (1999)                                                                30.707095\n",
      "Raiders of the Lost Ark (Indiana Jones and the Raiders of the Lost Ark) (1981)    22.002139\n",
      "Shawshank Redemption, The (1994)                                                  18.925514\n",
      "dtype: float64\n"
     ]
    }
   ],
   "source": [
    "import pandas as pd\n",
    "import seaborn as sns\n",
    "import matplotlib.pyplot as plt\n",
    "\n",
    "# Загрузка данных\n",
    "df_rating = pd.read_csv('C:/Users/Public/Documents/ratings.csv')\n",
    "df_movies = pd.read_csv('C:/Users/Public/Documents/movies.csv')\n",
    "\n",
    "# Объединение\n",
    "df_rating = df_rating.merge(df_movies[['movieId', 'title']], on='movieId', how='left')\n",
    "\n",
    "# Построение user-item матрицы\n",
    "df_user_item = df_rating.pivot_table(index='userId', columns='title', values='rating')\n",
    "\n",
    "# Матрица корреляций между фильмами\n",
    "corr_matrix = df_user_item.corr(method='pearson', min_periods=100)\n",
    "\n",
    "# Оценки пользователя 7\n",
    "user_id = 7\n",
    "user_ratings = df_user_item.loc[user_id].dropna()\n",
    "\n",
    "# Список кандидатов\n",
    "simCandidates = pd.Series(dtype='float64')\n",
    "\n",
    "# Считаем \"взвешенные\" корреляции\n",
    "for title, rating in user_ratings.items():\n",
    "    sims = corr_matrix[title].dropna()\n",
    "    sims = sims.map(lambda x: x * rating)\n",
    "    simCandidates = pd.concat([simCandidates, sims])\n",
    "\n",
    "# Суммируем повторы (дубликаты названий)\n",
    "simCandidates = simCandidates.groupby(simCandidates.index).sum()\n",
    "\n",
    "# Удаляем уже просмотренные фильмы\n",
    "not_watched = simCandidates[~simCandidates.index.isin(user_ratings.index)]\n",
    "\n",
    "# Рекомендуем топ-3\n",
    "top3_recommendations = not_watched.sort_values(ascending=False).head(3)\n",
    "\n",
    "print(\"🎬 Топ-3 рекомендации для пользователя 7:\\n\")\n",
    "print(top3_recommendations)\n"
   ]
  }
 ],
 "metadata": {
  "kernelspec": {
   "display_name": "Python 3",
   "language": "python",
   "name": "python3"
  },
  "language_info": {
   "codemirror_mode": {
    "name": "ipython",
    "version": 3
   },
   "file_extension": ".py",
   "mimetype": "text/x-python",
   "name": "python",
   "nbconvert_exporter": "python",
   "pygments_lexer": "ipython3",
   "version": "3.11.7"
  }
 },
 "nbformat": 4,
 "nbformat_minor": 5
}
