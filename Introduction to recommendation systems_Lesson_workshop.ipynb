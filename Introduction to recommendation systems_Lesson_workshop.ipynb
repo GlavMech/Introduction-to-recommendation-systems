{
 "cells": [
  {
   "cell_type": "code",
   "execution_count": 1,
   "id": "50819017",
   "metadata": {},
   "outputs": [],
   "source": [
    "import pandas as pd\n",
    "import seaborn as sns\n",
    "import matplotlib.pyplot as plt"
   ]
  },
  {
   "cell_type": "code",
   "execution_count": 2,
   "id": "636eb126",
   "metadata": {},
   "outputs": [],
   "source": [
    "df_rating = pd.read_csv('C:/Users/Public/Documents/ratings.csv')\n",
    "df_movies = pd.read_csv('C:/Users/Public/Documents/movies.csv')"
   ]
  },
  {
   "cell_type": "code",
   "execution_count": 3,
   "id": "be96008d",
   "metadata": {},
   "outputs": [
    {
     "data": {
      "text/html": [
       "<div>\n",
       "<style scoped>\n",
       "    .dataframe tbody tr th:only-of-type {\n",
       "        vertical-align: middle;\n",
       "    }\n",
       "\n",
       "    .dataframe tbody tr th {\n",
       "        vertical-align: top;\n",
       "    }\n",
       "\n",
       "    .dataframe thead th {\n",
       "        text-align: right;\n",
       "    }\n",
       "</style>\n",
       "<table border=\"1\" class=\"dataframe\">\n",
       "  <thead>\n",
       "    <tr style=\"text-align: right;\">\n",
       "      <th></th>\n",
       "      <th>userId</th>\n",
       "      <th>movieId</th>\n",
       "      <th>rating</th>\n",
       "      <th>timestamp</th>\n",
       "    </tr>\n",
       "  </thead>\n",
       "  <tbody>\n",
       "    <tr>\n",
       "      <th>0</th>\n",
       "      <td>1</td>\n",
       "      <td>1</td>\n",
       "      <td>4.0</td>\n",
       "      <td>964982703</td>\n",
       "    </tr>\n",
       "    <tr>\n",
       "      <th>1</th>\n",
       "      <td>1</td>\n",
       "      <td>3</td>\n",
       "      <td>4.0</td>\n",
       "      <td>964981247</td>\n",
       "    </tr>\n",
       "    <tr>\n",
       "      <th>2</th>\n",
       "      <td>1</td>\n",
       "      <td>6</td>\n",
       "      <td>4.0</td>\n",
       "      <td>964982224</td>\n",
       "    </tr>\n",
       "    <tr>\n",
       "      <th>3</th>\n",
       "      <td>1</td>\n",
       "      <td>47</td>\n",
       "      <td>5.0</td>\n",
       "      <td>964983815</td>\n",
       "    </tr>\n",
       "    <tr>\n",
       "      <th>4</th>\n",
       "      <td>1</td>\n",
       "      <td>50</td>\n",
       "      <td>5.0</td>\n",
       "      <td>964982931</td>\n",
       "    </tr>\n",
       "  </tbody>\n",
       "</table>\n",
       "</div>"
      ],
      "text/plain": [
       "   userId  movieId  rating  timestamp\n",
       "0       1        1     4.0  964982703\n",
       "1       1        3     4.0  964981247\n",
       "2       1        6     4.0  964982224\n",
       "3       1       47     5.0  964983815\n",
       "4       1       50     5.0  964982931"
      ]
     },
     "execution_count": 3,
     "metadata": {},
     "output_type": "execute_result"
    }
   ],
   "source": [
    "df_rating.head()"
   ]
  },
  {
   "cell_type": "code",
   "execution_count": 4,
   "id": "5f14f6c6",
   "metadata": {},
   "outputs": [
    {
     "data": {
      "text/html": [
       "<div>\n",
       "<style scoped>\n",
       "    .dataframe tbody tr th:only-of-type {\n",
       "        vertical-align: middle;\n",
       "    }\n",
       "\n",
       "    .dataframe tbody tr th {\n",
       "        vertical-align: top;\n",
       "    }\n",
       "\n",
       "    .dataframe thead th {\n",
       "        text-align: right;\n",
       "    }\n",
       "</style>\n",
       "<table border=\"1\" class=\"dataframe\">\n",
       "  <thead>\n",
       "    <tr style=\"text-align: right;\">\n",
       "      <th></th>\n",
       "      <th>movieId</th>\n",
       "      <th>title</th>\n",
       "      <th>genres</th>\n",
       "    </tr>\n",
       "  </thead>\n",
       "  <tbody>\n",
       "    <tr>\n",
       "      <th>0</th>\n",
       "      <td>1</td>\n",
       "      <td>Toy Story (1995)</td>\n",
       "      <td>Adventure|Animation|Children|Comedy|Fantasy</td>\n",
       "    </tr>\n",
       "    <tr>\n",
       "      <th>1</th>\n",
       "      <td>2</td>\n",
       "      <td>Jumanji (1995)</td>\n",
       "      <td>Adventure|Children|Fantasy</td>\n",
       "    </tr>\n",
       "    <tr>\n",
       "      <th>2</th>\n",
       "      <td>3</td>\n",
       "      <td>Grumpier Old Men (1995)</td>\n",
       "      <td>Comedy|Romance</td>\n",
       "    </tr>\n",
       "    <tr>\n",
       "      <th>3</th>\n",
       "      <td>4</td>\n",
       "      <td>Waiting to Exhale (1995)</td>\n",
       "      <td>Comedy|Drama|Romance</td>\n",
       "    </tr>\n",
       "    <tr>\n",
       "      <th>4</th>\n",
       "      <td>5</td>\n",
       "      <td>Father of the Bride Part II (1995)</td>\n",
       "      <td>Comedy</td>\n",
       "    </tr>\n",
       "  </tbody>\n",
       "</table>\n",
       "</div>"
      ],
      "text/plain": [
       "   movieId                               title  \\\n",
       "0        1                    Toy Story (1995)   \n",
       "1        2                      Jumanji (1995)   \n",
       "2        3             Grumpier Old Men (1995)   \n",
       "3        4            Waiting to Exhale (1995)   \n",
       "4        5  Father of the Bride Part II (1995)   \n",
       "\n",
       "                                        genres  \n",
       "0  Adventure|Animation|Children|Comedy|Fantasy  \n",
       "1                   Adventure|Children|Fantasy  \n",
       "2                               Comedy|Romance  \n",
       "3                         Comedy|Drama|Romance  \n",
       "4                                       Comedy  "
      ]
     },
     "execution_count": 4,
     "metadata": {},
     "output_type": "execute_result"
    }
   ],
   "source": [
    "df_movies.head()"
   ]
  },
  {
   "cell_type": "code",
   "execution_count": 5,
   "id": "40e73a6a",
   "metadata": {},
   "outputs": [
    {
     "data": {
      "text/html": [
       "<div>\n",
       "<style scoped>\n",
       "    .dataframe tbody tr th:only-of-type {\n",
       "        vertical-align: middle;\n",
       "    }\n",
       "\n",
       "    .dataframe tbody tr th {\n",
       "        vertical-align: top;\n",
       "    }\n",
       "\n",
       "    .dataframe thead th {\n",
       "        text-align: right;\n",
       "    }\n",
       "</style>\n",
       "<table border=\"1\" class=\"dataframe\">\n",
       "  <thead>\n",
       "    <tr style=\"text-align: right;\">\n",
       "      <th></th>\n",
       "      <th>userId</th>\n",
       "      <th>movieId</th>\n",
       "      <th>rating</th>\n",
       "      <th>timestamp</th>\n",
       "    </tr>\n",
       "  </thead>\n",
       "  <tbody>\n",
       "    <tr>\n",
       "      <th>count</th>\n",
       "      <td>100836.000000</td>\n",
       "      <td>100836.000000</td>\n",
       "      <td>100836.000000</td>\n",
       "      <td>1.008360e+05</td>\n",
       "    </tr>\n",
       "    <tr>\n",
       "      <th>mean</th>\n",
       "      <td>326.127564</td>\n",
       "      <td>19435.295718</td>\n",
       "      <td>3.501557</td>\n",
       "      <td>1.205946e+09</td>\n",
       "    </tr>\n",
       "    <tr>\n",
       "      <th>std</th>\n",
       "      <td>182.618491</td>\n",
       "      <td>35530.987199</td>\n",
       "      <td>1.042529</td>\n",
       "      <td>2.162610e+08</td>\n",
       "    </tr>\n",
       "    <tr>\n",
       "      <th>min</th>\n",
       "      <td>1.000000</td>\n",
       "      <td>1.000000</td>\n",
       "      <td>0.500000</td>\n",
       "      <td>8.281246e+08</td>\n",
       "    </tr>\n",
       "    <tr>\n",
       "      <th>25%</th>\n",
       "      <td>177.000000</td>\n",
       "      <td>1199.000000</td>\n",
       "      <td>3.000000</td>\n",
       "      <td>1.019124e+09</td>\n",
       "    </tr>\n",
       "    <tr>\n",
       "      <th>50%</th>\n",
       "      <td>325.000000</td>\n",
       "      <td>2991.000000</td>\n",
       "      <td>3.500000</td>\n",
       "      <td>1.186087e+09</td>\n",
       "    </tr>\n",
       "    <tr>\n",
       "      <th>75%</th>\n",
       "      <td>477.000000</td>\n",
       "      <td>8122.000000</td>\n",
       "      <td>4.000000</td>\n",
       "      <td>1.435994e+09</td>\n",
       "    </tr>\n",
       "    <tr>\n",
       "      <th>max</th>\n",
       "      <td>610.000000</td>\n",
       "      <td>193609.000000</td>\n",
       "      <td>5.000000</td>\n",
       "      <td>1.537799e+09</td>\n",
       "    </tr>\n",
       "  </tbody>\n",
       "</table>\n",
       "</div>"
      ],
      "text/plain": [
       "              userId        movieId         rating     timestamp\n",
       "count  100836.000000  100836.000000  100836.000000  1.008360e+05\n",
       "mean      326.127564   19435.295718       3.501557  1.205946e+09\n",
       "std       182.618491   35530.987199       1.042529  2.162610e+08\n",
       "min         1.000000       1.000000       0.500000  8.281246e+08\n",
       "25%       177.000000    1199.000000       3.000000  1.019124e+09\n",
       "50%       325.000000    2991.000000       3.500000  1.186087e+09\n",
       "75%       477.000000    8122.000000       4.000000  1.435994e+09\n",
       "max       610.000000  193609.000000       5.000000  1.537799e+09"
      ]
     },
     "execution_count": 5,
     "metadata": {},
     "output_type": "execute_result"
    }
   ],
   "source": [
    "df_rating.describe()"
   ]
  },
  {
   "cell_type": "code",
   "execution_count": 6,
   "id": "0ca45d06",
   "metadata": {},
   "outputs": [],
   "source": [
    "df_rating = df_rating.merge(df_movies[['movieId', 'title']],how='left', on='movieId')"
   ]
  },
  {
   "cell_type": "code",
   "execution_count": 7,
   "id": "1ad9b6bf",
   "metadata": {},
   "outputs": [
    {
     "data": {
      "text/html": [
       "<div>\n",
       "<style scoped>\n",
       "    .dataframe tbody tr th:only-of-type {\n",
       "        vertical-align: middle;\n",
       "    }\n",
       "\n",
       "    .dataframe tbody tr th {\n",
       "        vertical-align: top;\n",
       "    }\n",
       "\n",
       "    .dataframe thead th {\n",
       "        text-align: right;\n",
       "    }\n",
       "</style>\n",
       "<table border=\"1\" class=\"dataframe\">\n",
       "  <thead>\n",
       "    <tr style=\"text-align: right;\">\n",
       "      <th></th>\n",
       "      <th>userId</th>\n",
       "      <th>movieId</th>\n",
       "      <th>timestamp</th>\n",
       "      <th>title</th>\n",
       "    </tr>\n",
       "    <tr>\n",
       "      <th>rating</th>\n",
       "      <th></th>\n",
       "      <th></th>\n",
       "      <th></th>\n",
       "      <th></th>\n",
       "    </tr>\n",
       "  </thead>\n",
       "  <tbody>\n",
       "    <tr>\n",
       "      <th>0.5</th>\n",
       "      <td>1370</td>\n",
       "      <td>1370</td>\n",
       "      <td>1370</td>\n",
       "      <td>1370</td>\n",
       "    </tr>\n",
       "    <tr>\n",
       "      <th>1.0</th>\n",
       "      <td>2811</td>\n",
       "      <td>2811</td>\n",
       "      <td>2811</td>\n",
       "      <td>2811</td>\n",
       "    </tr>\n",
       "    <tr>\n",
       "      <th>1.5</th>\n",
       "      <td>1791</td>\n",
       "      <td>1791</td>\n",
       "      <td>1791</td>\n",
       "      <td>1791</td>\n",
       "    </tr>\n",
       "    <tr>\n",
       "      <th>2.0</th>\n",
       "      <td>7551</td>\n",
       "      <td>7551</td>\n",
       "      <td>7551</td>\n",
       "      <td>7551</td>\n",
       "    </tr>\n",
       "    <tr>\n",
       "      <th>2.5</th>\n",
       "      <td>5550</td>\n",
       "      <td>5550</td>\n",
       "      <td>5550</td>\n",
       "      <td>5550</td>\n",
       "    </tr>\n",
       "    <tr>\n",
       "      <th>3.0</th>\n",
       "      <td>20047</td>\n",
       "      <td>20047</td>\n",
       "      <td>20047</td>\n",
       "      <td>20047</td>\n",
       "    </tr>\n",
       "    <tr>\n",
       "      <th>3.5</th>\n",
       "      <td>13136</td>\n",
       "      <td>13136</td>\n",
       "      <td>13136</td>\n",
       "      <td>13136</td>\n",
       "    </tr>\n",
       "    <tr>\n",
       "      <th>4.0</th>\n",
       "      <td>26818</td>\n",
       "      <td>26818</td>\n",
       "      <td>26818</td>\n",
       "      <td>26818</td>\n",
       "    </tr>\n",
       "    <tr>\n",
       "      <th>4.5</th>\n",
       "      <td>8551</td>\n",
       "      <td>8551</td>\n",
       "      <td>8551</td>\n",
       "      <td>8551</td>\n",
       "    </tr>\n",
       "    <tr>\n",
       "      <th>5.0</th>\n",
       "      <td>13211</td>\n",
       "      <td>13211</td>\n",
       "      <td>13211</td>\n",
       "      <td>13211</td>\n",
       "    </tr>\n",
       "  </tbody>\n",
       "</table>\n",
       "</div>"
      ],
      "text/plain": [
       "        userId  movieId  timestamp  title\n",
       "rating                                   \n",
       "0.5       1370     1370       1370   1370\n",
       "1.0       2811     2811       2811   2811\n",
       "1.5       1791     1791       1791   1791\n",
       "2.0       7551     7551       7551   7551\n",
       "2.5       5550     5550       5550   5550\n",
       "3.0      20047    20047      20047  20047\n",
       "3.5      13136    13136      13136  13136\n",
       "4.0      26818    26818      26818  26818\n",
       "4.5       8551     8551       8551   8551\n",
       "5.0      13211    13211      13211  13211"
      ]
     },
     "execution_count": 7,
     "metadata": {},
     "output_type": "execute_result"
    }
   ],
   "source": [
    "df_rating.groupby('rating').count()"
   ]
  },
  {
   "cell_type": "code",
   "execution_count": 10,
   "id": "4f1e1a09",
   "metadata": {},
   "outputs": [
    {
     "name": "stderr",
     "output_type": "stream",
     "text": [
      "C:\\Users\\фвьшт\\AppData\\Local\\Temp\\ipykernel_21892\\3488525980.py:3: UserWarning: set_ticklabels() should only be used with a fixed number of ticks, i.e. after set_ticks() or using a FixedLocator.\n",
      "  ax.set_yticklabels([num for num in ax.get_yticks()])\n"
     ]
    },
    {
     "data": {
      "image/png": "[encoded data removed]",
      "text/plain": [
       "<Figure size 1200x800 with 1 Axes>"
      ]
     },
     "metadata": {},
     "output_type": "display_data"
    }
   ],
   "source": [
    "plt.figure(figsize = (12, 8))\n",
    "ax = sns.countplot(x='rating', data=df_rating)\n",
    "ax.set_yticklabels([num for num in ax.get_yticks()])\n",
    "plt.tick_params(labelsize = 15)\n",
    "plt.title('Count Rating in train data', fontsize = 20)\n",
    "plt.xlabel('Ratings', fontsize = 20)\n",
    "plt.ylabel('Numder of Ratings', fontsize = 20)\n",
    "plt.show()"
   ]
  },
  {
   "cell_type": "code",
   "execution_count": 11,
   "id": "2857eeb9",
   "metadata": {},
   "outputs": [
    {
     "data": {
      "text/plain": [
       "userId\n",
       "414    2698\n",
       "599    2478\n",
       "474    2108\n",
       "448    1864\n",
       "274    1346\n",
       "       ... \n",
       "442      20\n",
       "569      20\n",
       "320      20\n",
       "576      20\n",
       "53       20\n",
       "Name: rating, Length: 610, dtype: int64"
      ]
     },
     "execution_count": 11,
     "metadata": {},
     "output_type": "execute_result"
    }
   ],
   "source": [
    "df_rating.groupby(by = \"userId\")[\"rating\"].count().sort_values(ascending = False)"
   ]
  },
  {
   "cell_type": "code",
   "execution_count": 12,
   "id": "73eeeef8",
   "metadata": {},
   "outputs": [
    {
     "data": {
      "text/plain": [
       "title\n",
       "Forrest Gump (1994)                          329\n",
       "Shawshank Redemption, The (1994)             317\n",
       "Pulp Fiction (1994)                          307\n",
       "Silence of the Lambs, The (1991)             279\n",
       "Matrix, The (1999)                           278\n",
       "                                            ... \n",
       "King Solomon's Mines (1950)                    1\n",
       "King Solomon's Mines (1937)                    1\n",
       "King Ralph (1991)                              1\n",
       "King Kong Lives (1986)                         1\n",
       "À nous la liberté (Freedom for Us) (1931)      1\n",
       "Name: rating, Length: 9719, dtype: int64"
      ]
     },
     "execution_count": 12,
     "metadata": {},
     "output_type": "execute_result"
    }
   ],
   "source": [
    "df_rating.groupby(by = \"title\")[\"rating\"].count().sort_values(ascending = False)"
   ]
  },
  {
   "cell_type": "code",
   "execution_count": 14,
   "id": "02883c5b",
   "metadata": {},
   "outputs": [],
   "source": [
    "df_user_item = df_rating.pivot_table(index=['userId'], columns=['title'], values='rating')"
   ]
  },
  {
   "cell_type": "code",
   "execution_count": 15,
   "id": "1028720f",
   "metadata": {},
   "outputs": [
    {
     "data": {
      "text/html": [
       "<div>\n",
       "<style scoped>\n",
       "    .dataframe tbody tr th:only-of-type {\n",
       "        vertical-align: middle;\n",
       "    }\n",
       "\n",
       "    .dataframe tbody tr th {\n",
       "        vertical-align: top;\n",
       "    }\n",
       "\n",
       "    .dataframe thead th {\n",
       "        text-align: right;\n",
       "    }\n",
       "</style>\n",
       "<table border=\"1\" class=\"dataframe\">\n",
       "  <thead>\n",
       "    <tr style=\"text-align: right;\">\n",
       "      <th>title</th>\n",
       "      <th>'71 (2014)</th>\n",
       "      <th>'Hellboy': The Seeds of Creation (2004)</th>\n",
       "      <th>'Round Midnight (1986)</th>\n",
       "      <th>'Salem's Lot (2004)</th>\n",
       "      <th>'Til There Was You (1997)</th>\n",
       "      <th>'Tis the Season for Love (2015)</th>\n",
       "      <th>'burbs, The (1989)</th>\n",
       "      <th>'night Mother (1986)</th>\n",
       "      <th>(500) Days of Summer (2009)</th>\n",
       "      <th>*batteries not included (1987)</th>\n",
       "      <th>...</th>\n",
       "      <th>Zulu (2013)</th>\n",
       "      <th>[REC] (2007)</th>\n",
       "      <th>[REC]² (2009)</th>\n",
       "      <th>[REC]³ 3 Génesis (2012)</th>\n",
       "      <th>anohana: The Flower We Saw That Day - The Movie (2013)</th>\n",
       "      <th>eXistenZ (1999)</th>\n",
       "      <th>xXx (2002)</th>\n",
       "      <th>xXx: State of the Union (2005)</th>\n",
       "      <th>¡Three Amigos! (1986)</th>\n",
       "      <th>À nous la liberté (Freedom for Us) (1931)</th>\n",
       "    </tr>\n",
       "    <tr>\n",
       "      <th>userId</th>\n",
       "      <th></th>\n",
       "      <th></th>\n",
       "      <th></th>\n",
       "      <th></th>\n",
       "      <th></th>\n",
       "      <th></th>\n",
       "      <th></th>\n",
       "      <th></th>\n",
       "      <th></th>\n",
       "      <th></th>\n",
       "      <th></th>\n",
       "      <th></th>\n",
       "      <th></th>\n",
       "      <th></th>\n",
       "      <th></th>\n",
       "      <th></th>\n",
       "      <th></th>\n",
       "      <th></th>\n",
       "      <th></th>\n",
       "      <th></th>\n",
       "      <th></th>\n",
       "    </tr>\n",
       "  </thead>\n",
       "  <tbody>\n",
       "    <tr>\n",
       "      <th>606</th>\n",
       "      <td>NaN</td>\n",
       "      <td>NaN</td>\n",
       "      <td>NaN</td>\n",
       "      <td>NaN</td>\n",
       "      <td>NaN</td>\n",
       "      <td>NaN</td>\n",
       "      <td>NaN</td>\n",
       "      <td>NaN</td>\n",
       "      <td>NaN</td>\n",
       "      <td>NaN</td>\n",
       "      <td>...</td>\n",
       "      <td>NaN</td>\n",
       "      <td>NaN</td>\n",
       "      <td>NaN</td>\n",
       "      <td>NaN</td>\n",
       "      <td>NaN</td>\n",
       "      <td>NaN</td>\n",
       "      <td>NaN</td>\n",
       "      <td>NaN</td>\n",
       "      <td>NaN</td>\n",
       "      <td>NaN</td>\n",
       "    </tr>\n",
       "    <tr>\n",
       "      <th>607</th>\n",
       "      <td>NaN</td>\n",
       "      <td>NaN</td>\n",
       "      <td>NaN</td>\n",
       "      <td>NaN</td>\n",
       "      <td>NaN</td>\n",
       "      <td>NaN</td>\n",
       "      <td>NaN</td>\n",
       "      <td>NaN</td>\n",
       "      <td>NaN</td>\n",
       "      <td>NaN</td>\n",
       "      <td>...</td>\n",
       "      <td>NaN</td>\n",
       "      <td>NaN</td>\n",
       "      <td>NaN</td>\n",
       "      <td>NaN</td>\n",
       "      <td>NaN</td>\n",
       "      <td>NaN</td>\n",
       "      <td>NaN</td>\n",
       "      <td>NaN</td>\n",
       "      <td>NaN</td>\n",
       "      <td>NaN</td>\n",
       "    </tr>\n",
       "    <tr>\n",
       "      <th>608</th>\n",
       "      <td>NaN</td>\n",
       "      <td>NaN</td>\n",
       "      <td>NaN</td>\n",
       "      <td>NaN</td>\n",
       "      <td>NaN</td>\n",
       "      <td>NaN</td>\n",
       "      <td>NaN</td>\n",
       "      <td>NaN</td>\n",
       "      <td>NaN</td>\n",
       "      <td>NaN</td>\n",
       "      <td>...</td>\n",
       "      <td>NaN</td>\n",
       "      <td>NaN</td>\n",
       "      <td>NaN</td>\n",
       "      <td>NaN</td>\n",
       "      <td>NaN</td>\n",
       "      <td>4.5</td>\n",
       "      <td>3.5</td>\n",
       "      <td>NaN</td>\n",
       "      <td>NaN</td>\n",
       "      <td>NaN</td>\n",
       "    </tr>\n",
       "    <tr>\n",
       "      <th>609</th>\n",
       "      <td>NaN</td>\n",
       "      <td>NaN</td>\n",
       "      <td>NaN</td>\n",
       "      <td>NaN</td>\n",
       "      <td>NaN</td>\n",
       "      <td>NaN</td>\n",
       "      <td>NaN</td>\n",
       "      <td>NaN</td>\n",
       "      <td>NaN</td>\n",
       "      <td>NaN</td>\n",
       "      <td>...</td>\n",
       "      <td>NaN</td>\n",
       "      <td>NaN</td>\n",
       "      <td>NaN</td>\n",
       "      <td>NaN</td>\n",
       "      <td>NaN</td>\n",
       "      <td>NaN</td>\n",
       "      <td>NaN</td>\n",
       "      <td>NaN</td>\n",
       "      <td>NaN</td>\n",
       "      <td>NaN</td>\n",
       "    </tr>\n",
       "    <tr>\n",
       "      <th>610</th>\n",
       "      <td>4.0</td>\n",
       "      <td>NaN</td>\n",
       "      <td>NaN</td>\n",
       "      <td>NaN</td>\n",
       "      <td>NaN</td>\n",
       "      <td>NaN</td>\n",
       "      <td>NaN</td>\n",
       "      <td>NaN</td>\n",
       "      <td>3.5</td>\n",
       "      <td>NaN</td>\n",
       "      <td>...</td>\n",
       "      <td>NaN</td>\n",
       "      <td>4.0</td>\n",
       "      <td>3.5</td>\n",
       "      <td>3.0</td>\n",
       "      <td>NaN</td>\n",
       "      <td>NaN</td>\n",
       "      <td>2.0</td>\n",
       "      <td>1.5</td>\n",
       "      <td>NaN</td>\n",
       "      <td>NaN</td>\n",
       "    </tr>\n",
       "  </tbody>\n",
       "</table>\n",
       "<p>5 rows × 9719 columns</p>\n",
       "</div>"
      ],
      "text/plain": [
       "title   '71 (2014)  'Hellboy': The Seeds of Creation (2004)  \\\n",
       "userId                                                        \n",
       "606            NaN                                      NaN   \n",
       "607            NaN                                      NaN   \n",
       "608            NaN                                      NaN   \n",
       "609            NaN                                      NaN   \n",
       "610            4.0                                      NaN   \n",
       "\n",
       "title   'Round Midnight (1986)  'Salem's Lot (2004)  \\\n",
       "userId                                                \n",
       "606                        NaN                  NaN   \n",
       "607                        NaN                  NaN   \n",
       "608                        NaN                  NaN   \n",
       "609                        NaN                  NaN   \n",
       "610                        NaN                  NaN   \n",
       "\n",
       "title   'Til There Was You (1997)  'Tis the Season for Love (2015)  \\\n",
       "userId                                                               \n",
       "606                           NaN                              NaN   \n",
       "607                           NaN                              NaN   \n",
       "608                           NaN                              NaN   \n",
       "609                           NaN                              NaN   \n",
       "610                           NaN                              NaN   \n",
       "\n",
       "title   'burbs, The (1989)  'night Mother (1986)  (500) Days of Summer (2009)  \\\n",
       "userId                                                                          \n",
       "606                    NaN                   NaN                          NaN   \n",
       "607                    NaN                   NaN                          NaN   \n",
       "608                    NaN                   NaN                          NaN   \n",
       "609                    NaN                   NaN                          NaN   \n",
       "610                    NaN                   NaN                          3.5   \n",
       "\n",
       "title   *batteries not included (1987)  ...  Zulu (2013)  [REC] (2007)  \\\n",
       "userId                                  ...                              \n",
       "606                                NaN  ...          NaN           NaN   \n",
       "607                                NaN  ...          NaN           NaN   \n",
       "608                                NaN  ...          NaN           NaN   \n",
       "609                                NaN  ...          NaN           NaN   \n",
       "610                                NaN  ...          NaN           4.0   \n",
       "\n",
       "title   [REC]² (2009)  [REC]³ 3 Génesis (2012)  \\\n",
       "userId                                           \n",
       "606               NaN                      NaN   \n",
       "607               NaN                      NaN   \n",
       "608               NaN                      NaN   \n",
       "609               NaN                      NaN   \n",
       "610               3.5                      3.0   \n",
       "\n",
       "title   anohana: The Flower We Saw That Day - The Movie (2013)  \\\n",
       "userId                                                           \n",
       "606                                                   NaN        \n",
       "607                                                   NaN        \n",
       "608                                                   NaN        \n",
       "609                                                   NaN        \n",
       "610                                                   NaN        \n",
       "\n",
       "title   eXistenZ (1999)  xXx (2002)  xXx: State of the Union (2005)  \\\n",
       "userId                                                                \n",
       "606                 NaN         NaN                             NaN   \n",
       "607                 NaN         NaN                             NaN   \n",
       "608                 4.5         3.5                             NaN   \n",
       "609                 NaN         NaN                             NaN   \n",
       "610                 NaN         2.0                             1.5   \n",
       "\n",
       "title   ¡Three Amigos! (1986)  À nous la liberté (Freedom for Us) (1931)  \n",
       "userId                                                                    \n",
       "606                       NaN                                        NaN  \n",
       "607                       NaN                                        NaN  \n",
       "608                       NaN                                        NaN  \n",
       "609                       NaN                                        NaN  \n",
       "610                       NaN                                        NaN  \n",
       "\n",
       "[5 rows x 9719 columns]"
      ]
     },
     "execution_count": 15,
     "metadata": {},
     "output_type": "execute_result"
    }
   ],
   "source": [
    "df_user_item.tail(5)"
   ]
  },
  {
   "cell_type": "code",
   "execution_count": 16,
   "id": "12ae5b2e",
   "metadata": {},
   "outputs": [],
   "source": [
    "from scipy import sparse"
   ]
  },
  {
   "cell_type": "code",
   "execution_count": 17,
   "id": "be5abf91",
   "metadata": {},
   "outputs": [
    {
     "name": "stderr",
     "output_type": "stream",
     "text": [
      "c:\\Users\\фвьшт\\AppData\\Local\\Programs\\Python\\Python311\\Lib\\site-packages\\numpy\\lib\\function_base.py:2889: RuntimeWarning: Degrees of freedom <= 0 for slice\n",
      "  c = cov(x, y, rowvar, dtype=dtype)\n",
      "c:\\Users\\фвьшт\\AppData\\Local\\Programs\\Python\\Python311\\Lib\\site-packages\\numpy\\lib\\function_base.py:2748: RuntimeWarning: divide by zero encountered in divide\n",
      "  c *= np.true_divide(1, fact)\n",
      "c:\\Users\\фвьшт\\AppData\\Local\\Programs\\Python\\Python311\\Lib\\site-packages\\numpy\\lib\\function_base.py:2748: RuntimeWarning: invalid value encountered in multiply\n",
      "  c *= np.true_divide(1, fact)\n",
      "c:\\Users\\фвьшт\\AppData\\Local\\Programs\\Python\\Python311\\Lib\\site-packages\\numpy\\lib\\function_base.py:2897: RuntimeWarning: invalid value encountered in divide\n",
      "  c /= stddev[:, None]\n",
      "c:\\Users\\фвьшт\\AppData\\Local\\Programs\\Python\\Python311\\Lib\\site-packages\\numpy\\lib\\function_base.py:2898: RuntimeWarning: invalid value encountered in divide\n",
      "  c /= stddev[None, :]\n"
     ]
    },
    {
     "data": {
      "text/plain": [
       "title\n",
       "'burbs, The (1989)                0.197712\n",
       "(500) Days of Summer (2009)       0.234095\n",
       "*batteries not included (1987)    0.892710\n",
       "...And Justice for All (1979)     0.928571\n",
       "10 Cent Pistol (2015)            -1.000000\n",
       "                                    ...   \n",
       "[REC]² (2009)                    -0.052414\n",
       "eXistenZ (1999)                   0.011189\n",
       "xXx (2002)                        0.306817\n",
       "xXx: State of the Union (2005)    0.383482\n",
       "¡Three Amigos! (1986)             0.449692\n",
       "Length: 5460, dtype: float64"
      ]
     },
     "execution_count": 17,
     "metadata": {},
     "output_type": "execute_result"
    }
   ],
   "source": [
    "forrestGumppRatings = df_user_item['Forrest Gump (1994)']\n",
    "similarMovies = df_user_item.corrwith(forrestGumppRatings).dropna()\n",
    "similarMovies"
   ]
  },
  {
   "cell_type": "code",
   "execution_count": 19,
   "id": "0718b521",
   "metadata": {},
   "outputs": [
    {
     "data": {
      "text/plain": [
       "userId\n",
       "1      4.0\n",
       "2      NaN\n",
       "3      NaN\n",
       "4      NaN\n",
       "5      NaN\n",
       "      ... \n",
       "606    4.0\n",
       "607    NaN\n",
       "608    3.0\n",
       "609    4.0\n",
       "610    3.0\n",
       "Name: Forrest Gump (1994), Length: 610, dtype: float64"
      ]
     },
     "execution_count": 19,
     "metadata": {},
     "output_type": "execute_result"
    }
   ],
   "source": [
    "forrestGumppRatings"
   ]
  },
  {
   "cell_type": "code",
   "execution_count": 18,
   "id": "78823340",
   "metadata": {},
   "outputs": [
    {
     "data": {
      "text/plain": [
       "title\n",
       "Lost & Found (1999)                          1.0\n",
       "Cercle Rouge, Le (Red Circle, The) (1970)    1.0\n",
       "Play Time (a.k.a. Playtime) (1967)           1.0\n",
       "Killers (2010)                               1.0\n",
       "Playing God (1997)                           1.0\n",
       "Girl Walks Home Alone at Night, A (2014)     1.0\n",
       "Tampopo (1985)                               1.0\n",
       "Century of the Self, The (2002)              1.0\n",
       "Welcome to the Jungle (2013)                 1.0\n",
       "Poison Ivy: New Seduction (1997)             1.0\n",
       "Couples Retreat (2009)                       1.0\n",
       "Take Shelter (2011)                          1.0\n",
       "Chasers (1994)                               1.0\n",
       "Tadpole (2002)                               1.0\n",
       "Ghost Town (2008)                            1.0\n",
       "dtype: float64"
      ]
     },
     "execution_count": 18,
     "metadata": {},
     "output_type": "execute_result"
    }
   ],
   "source": [
    "similarMovies.sort_values(ascending=False)[:15]"
   ]
  },
  {
   "cell_type": "code",
   "execution_count": 21,
   "id": "2333805d",
   "metadata": {},
   "outputs": [],
   "source": [
    "corr_matrix = df_user_item.corr(method='pearson', min_periods=100)"
   ]
  },
  {
   "cell_type": "code",
   "execution_count": 28,
   "id": "c73e18ac",
   "metadata": {},
   "outputs": [
    {
     "data": {
      "text/plain": [
       "title\n",
       "2001: A Space Odyssey (1968)           4.0\n",
       "A.I. Artificial Intelligence (2001)    4.5\n",
       "Aladdin (1992)                         3.0\n",
       "American Beauty (1999)                 4.0\n",
       "Apocalypse Now (1979)                  4.0\n",
       "                                      ... \n",
       "What Women Want (2000)                 4.0\n",
       "Wild Wild West (1999)                  1.5\n",
       "X-Men (2000)                           3.5\n",
       "X-Men: The Last Stand (2006)           4.0\n",
       "X2: X-Men United (2003)                4.0\n",
       "Name: 7, Length: 152, dtype: float64"
      ]
     },
     "execution_count": 28,
     "metadata": {},
     "output_type": "execute_result"
    }
   ],
   "source": [
    "user_ratings = df_user_item.loc[7].dropna()\n",
    "user_ratings"
   ]
  },
  {
   "cell_type": "code",
   "execution_count": 33,
   "id": "d174af4f",
   "metadata": {},
   "outputs": [
    {
     "name": "stderr",
     "output_type": "stream",
     "text": [
      "C:\\Users\\фвьшт\\AppData\\Local\\Temp\\ipykernel_21892\\751595055.py:4: FutureWarning: Series.__getitem__ treating keys as positions is deprecated. In a future version, integer keys will always be treated as labels (consistent with DataFrame behavior). To access a value by position, use `ser.iloc[pos]`\n",
      "  sims = sims.map(lambda x: x * user_ratings[i])\n",
      "C:\\Users\\фвьшт\\AppData\\Local\\Temp\\ipykernel_21892\\751595055.py:4: FutureWarning: Series.__getitem__ treating keys as positions is deprecated. In a future version, integer keys will always be treated as labels (consistent with DataFrame behavior). To access a value by position, use `ser.iloc[pos]`\n",
      "  sims = sims.map(lambda x: x * user_ratings[i])\n",
      "C:\\Users\\фвьшт\\AppData\\Local\\Temp\\ipykernel_21892\\751595055.py:4: FutureWarning: Series.__getitem__ treating keys as positions is deprecated. In a future version, integer keys will always be treated as labels (consistent with DataFrame behavior). To access a value by position, use `ser.iloc[pos]`\n",
      "  sims = sims.map(lambda x: x * user_ratings[i])\n",
      "C:\\Users\\фвьшт\\AppData\\Local\\Temp\\ipykernel_21892\\751595055.py:4: FutureWarning: Series.__getitem__ treating keys as positions is deprecated. In a future version, integer keys will always be treated as labels (consistent with DataFrame behavior). To access a value by position, use `ser.iloc[pos]`\n",
      "  sims = sims.map(lambda x: x * user_ratings[i])\n",
      "C:\\Users\\фвьшт\\AppData\\Local\\Temp\\ipykernel_21892\\751595055.py:4: FutureWarning: Series.__getitem__ treating keys as positions is deprecated. In a future version, integer keys will always be treated as labels (consistent with DataFrame behavior). To access a value by position, use `ser.iloc[pos]`\n",
      "  sims = sims.map(lambda x: x * user_ratings[i])\n",
      "C:\\Users\\фвьшт\\AppData\\Local\\Temp\\ipykernel_21892\\751595055.py:4: FutureWarning: Series.__getitem__ treating keys as positions is deprecated. In a future version, integer keys will always be treated as labels (consistent with DataFrame behavior). To access a value by position, use `ser.iloc[pos]`\n",
      "  sims = sims.map(lambda x: x * user_ratings[i])\n",
      "C:\\Users\\фвьшт\\AppData\\Local\\Temp\\ipykernel_21892\\751595055.py:4: FutureWarning: Series.__getitem__ treating keys as positions is deprecated. In a future version, integer keys will always be treated as labels (consistent with DataFrame behavior). To access a value by position, use `ser.iloc[pos]`\n",
      "  sims = sims.map(lambda x: x * user_ratings[i])\n",
      "C:\\Users\\фвьшт\\AppData\\Local\\Temp\\ipykernel_21892\\751595055.py:4: FutureWarning: Series.__getitem__ treating keys as positions is deprecated. In a future version, integer keys will always be treated as labels (consistent with DataFrame behavior). To access a value by position, use `ser.iloc[pos]`\n",
      "  sims = sims.map(lambda x: x * user_ratings[i])\n",
      "C:\\Users\\фвьшт\\AppData\\Local\\Temp\\ipykernel_21892\\751595055.py:4: FutureWarning: Series.__getitem__ treating keys as positions is deprecated. In a future version, integer keys will always be treated as labels (consistent with DataFrame behavior). To access a value by position, use `ser.iloc[pos]`\n",
      "  sims = sims.map(lambda x: x * user_ratings[i])\n",
      "C:\\Users\\фвьшт\\AppData\\Local\\Temp\\ipykernel_21892\\751595055.py:4: FutureWarning: Series.__getitem__ treating keys as positions is deprecated. In a future version, integer keys will always be treated as labels (consistent with DataFrame behavior). To access a value by position, use `ser.iloc[pos]`\n",
      "  sims = sims.map(lambda x: x * user_ratings[i])\n",
      "C:\\Users\\фвьшт\\AppData\\Local\\Temp\\ipykernel_21892\\751595055.py:4: FutureWarning: Series.__getitem__ treating keys as positions is deprecated. In a future version, integer keys will always be treated as labels (consistent with DataFrame behavior). To access a value by position, use `ser.iloc[pos]`\n",
      "  sims = sims.map(lambda x: x * user_ratings[i])\n",
      "C:\\Users\\фвьшт\\AppData\\Local\\Temp\\ipykernel_21892\\751595055.py:4: FutureWarning: Series.__getitem__ treating keys as positions is deprecated. In a future version, integer keys will always be treated as labels (consistent with DataFrame behavior). To access a value by position, use `ser.iloc[pos]`\n",
      "  sims = sims.map(lambda x: x * user_ratings[i])\n",
      "C:\\Users\\фвьшт\\AppData\\Local\\Temp\\ipykernel_21892\\751595055.py:4: FutureWarning: Series.__getitem__ treating keys as positions is deprecated. In a future version, integer keys will always be treated as labels (consistent with DataFrame behavior). To access a value by position, use `ser.iloc[pos]`\n",
      "  sims = sims.map(lambda x: x * user_ratings[i])\n",
      "C:\\Users\\фвьшт\\AppData\\Local\\Temp\\ipykernel_21892\\751595055.py:4: FutureWarning: Series.__getitem__ treating keys as positions is deprecated. In a future version, integer keys will always be treated as labels (consistent with DataFrame behavior). To access a value by position, use `ser.iloc[pos]`\n",
      "  sims = sims.map(lambda x: x * user_ratings[i])\n",
      "C:\\Users\\фвьшт\\AppData\\Local\\Temp\\ipykernel_21892\\751595055.py:4: FutureWarning: Series.__getitem__ treating keys as positions is deprecated. In a future version, integer keys will always be treated as labels (consistent with DataFrame behavior). To access a value by position, use `ser.iloc[pos]`\n",
      "  sims = sims.map(lambda x: x * user_ratings[i])\n",
      "C:\\Users\\фвьшт\\AppData\\Local\\Temp\\ipykernel_21892\\751595055.py:4: FutureWarning: Series.__getitem__ treating keys as positions is deprecated. In a future version, integer keys will always be treated as labels (consistent with DataFrame behavior). To access a value by position, use `ser.iloc[pos]`\n",
      "  sims = sims.map(lambda x: x * user_ratings[i])\n",
      "C:\\Users\\фвьшт\\AppData\\Local\\Temp\\ipykernel_21892\\751595055.py:4: FutureWarning: Series.__getitem__ treating keys as positions is deprecated. In a future version, integer keys will always be treated as labels (consistent with DataFrame behavior). To access a value by position, use `ser.iloc[pos]`\n",
      "  sims = sims.map(lambda x: x * user_ratings[i])\n",
      "C:\\Users\\фвьшт\\AppData\\Local\\Temp\\ipykernel_21892\\751595055.py:4: FutureWarning: Series.__getitem__ treating keys as positions is deprecated. In a future version, integer keys will always be treated as labels (consistent with DataFrame behavior). To access a value by position, use `ser.iloc[pos]`\n",
      "  sims = sims.map(lambda x: x * user_ratings[i])\n",
      "C:\\Users\\фвьшт\\AppData\\Local\\Temp\\ipykernel_21892\\751595055.py:4: FutureWarning: Series.__getitem__ treating keys as positions is deprecated. In a future version, integer keys will always be treated as labels (consistent with DataFrame behavior). To access a value by position, use `ser.iloc[pos]`\n",
      "  sims = sims.map(lambda x: x * user_ratings[i])\n",
      "C:\\Users\\фвьшт\\AppData\\Local\\Temp\\ipykernel_21892\\751595055.py:4: FutureWarning: Series.__getitem__ treating keys as positions is deprecated. In a future version, integer keys will always be treated as labels (consistent with DataFrame behavior). To access a value by position, use `ser.iloc[pos]`\n",
      "  sims = sims.map(lambda x: x * user_ratings[i])\n",
      "C:\\Users\\фвьшт\\AppData\\Local\\Temp\\ipykernel_21892\\751595055.py:4: FutureWarning: Series.__getitem__ treating keys as positions is deprecated. In a future version, integer keys will always be treated as labels (consistent with DataFrame behavior). To access a value by position, use `ser.iloc[pos]`\n",
      "  sims = sims.map(lambda x: x * user_ratings[i])\n",
      "C:\\Users\\фвьшт\\AppData\\Local\\Temp\\ipykernel_21892\\751595055.py:4: FutureWarning: Series.__getitem__ treating keys as positions is deprecated. In a future version, integer keys will always be treated as labels (consistent with DataFrame behavior). To access a value by position, use `ser.iloc[pos]`\n",
      "  sims = sims.map(lambda x: x * user_ratings[i])\n",
      "C:\\Users\\фвьшт\\AppData\\Local\\Temp\\ipykernel_21892\\751595055.py:4: FutureWarning: Series.__getitem__ treating keys as positions is deprecated. In a future version, integer keys will always be treated as labels (consistent with DataFrame behavior). To access a value by position, use `ser.iloc[pos]`\n",
      "  sims = sims.map(lambda x: x * user_ratings[i])\n",
      "C:\\Users\\фвьшт\\AppData\\Local\\Temp\\ipykernel_21892\\751595055.py:4: FutureWarning: Series.__getitem__ treating keys as positions is deprecated. In a future version, integer keys will always be treated as labels (consistent with DataFrame behavior). To access a value by position, use `ser.iloc[pos]`\n",
      "  sims = sims.map(lambda x: x * user_ratings[i])\n",
      "C:\\Users\\фвьшт\\AppData\\Local\\Temp\\ipykernel_21892\\751595055.py:4: FutureWarning: Series.__getitem__ treating keys as positions is deprecated. In a future version, integer keys will always be treated as labels (consistent with DataFrame behavior). To access a value by position, use `ser.iloc[pos]`\n",
      "  sims = sims.map(lambda x: x * user_ratings[i])\n",
      "C:\\Users\\фвьшт\\AppData\\Local\\Temp\\ipykernel_21892\\751595055.py:4: FutureWarning: Series.__getitem__ treating keys as positions is deprecated. In a future version, integer keys will always be treated as labels (consistent with DataFrame behavior). To access a value by position, use `ser.iloc[pos]`\n",
      "  sims = sims.map(lambda x: x * user_ratings[i])\n",
      "C:\\Users\\фвьшт\\AppData\\Local\\Temp\\ipykernel_21892\\751595055.py:4: FutureWarning: Series.__getitem__ treating keys as positions is deprecated. In a future version, integer keys will always be treated as labels (consistent with DataFrame behavior). To access a value by position, use `ser.iloc[pos]`\n",
      "  sims = sims.map(lambda x: x * user_ratings[i])\n",
      "C:\\Users\\фвьшт\\AppData\\Local\\Temp\\ipykernel_21892\\751595055.py:4: FutureWarning: Series.__getitem__ treating keys as positions is deprecated. In a future version, integer keys will always be treated as labels (consistent with DataFrame behavior). To access a value by position, use `ser.iloc[pos]`\n",
      "  sims = sims.map(lambda x: x * user_ratings[i])\n",
      "C:\\Users\\фвьшт\\AppData\\Local\\Temp\\ipykernel_21892\\751595055.py:4: FutureWarning: Series.__getitem__ treating keys as positions is deprecated. In a future version, integer keys will always be treated as labels (consistent with DataFrame behavior). To access a value by position, use `ser.iloc[pos]`\n",
      "  sims = sims.map(lambda x: x * user_ratings[i])\n",
      "C:\\Users\\фвьшт\\AppData\\Local\\Temp\\ipykernel_21892\\751595055.py:4: FutureWarning: Series.__getitem__ treating keys as positions is deprecated. In a future version, integer keys will always be treated as labels (consistent with DataFrame behavior). To access a value by position, use `ser.iloc[pos]`\n",
      "  sims = sims.map(lambda x: x * user_ratings[i])\n",
      "C:\\Users\\фвьшт\\AppData\\Local\\Temp\\ipykernel_21892\\751595055.py:4: FutureWarning: Series.__getitem__ treating keys as positions is deprecated. In a future version, integer keys will always be treated as labels (consistent with DataFrame behavior). To access a value by position, use `ser.iloc[pos]`\n",
      "  sims = sims.map(lambda x: x * user_ratings[i])\n",
      "C:\\Users\\фвьшт\\AppData\\Local\\Temp\\ipykernel_21892\\751595055.py:4: FutureWarning: Series.__getitem__ treating keys as positions is deprecated. In a future version, integer keys will always be treated as labels (consistent with DataFrame behavior). To access a value by position, use `ser.iloc[pos]`\n",
      "  sims = sims.map(lambda x: x * user_ratings[i])\n",
      "C:\\Users\\фвьшт\\AppData\\Local\\Temp\\ipykernel_21892\\751595055.py:4: FutureWarning: Series.__getitem__ treating keys as positions is deprecated. In a future version, integer keys will always be treated as labels (consistent with DataFrame behavior). To access a value by position, use `ser.iloc[pos]`\n",
      "  sims = sims.map(lambda x: x * user_ratings[i])\n",
      "C:\\Users\\фвьшт\\AppData\\Local\\Temp\\ipykernel_21892\\751595055.py:4: FutureWarning: Series.__getitem__ treating keys as positions is deprecated. In a future version, integer keys will always be treated as labels (consistent with DataFrame behavior). To access a value by position, use `ser.iloc[pos]`\n",
      "  sims = sims.map(lambda x: x * user_ratings[i])\n",
      "C:\\Users\\фвьшт\\AppData\\Local\\Temp\\ipykernel_21892\\751595055.py:4: FutureWarning: Series.__getitem__ treating keys as positions is deprecated. In a future version, integer keys will always be treated as labels (consistent with DataFrame behavior). To access a value by position, use `ser.iloc[pos]`\n",
      "  sims = sims.map(lambda x: x * user_ratings[i])\n",
      "C:\\Users\\фвьшт\\AppData\\Local\\Temp\\ipykernel_21892\\751595055.py:4: FutureWarning: Series.__getitem__ treating keys as positions is deprecated. In a future version, integer keys will always be treated as labels (consistent with DataFrame behavior). To access a value by position, use `ser.iloc[pos]`\n",
      "  sims = sims.map(lambda x: x * user_ratings[i])\n",
      "C:\\Users\\фвьшт\\AppData\\Local\\Temp\\ipykernel_21892\\751595055.py:4: FutureWarning: Series.__getitem__ treating keys as positions is deprecated. In a future version, integer keys will always be treated as labels (consistent with DataFrame behavior). To access a value by position, use `ser.iloc[pos]`\n",
      "  sims = sims.map(lambda x: x * user_ratings[i])\n",
      "C:\\Users\\фвьшт\\AppData\\Local\\Temp\\ipykernel_21892\\751595055.py:4: FutureWarning: Series.__getitem__ treating keys as positions is deprecated. In a future version, integer keys will always be treated as labels (consistent with DataFrame behavior). To access a value by position, use `ser.iloc[pos]`\n",
      "  sims = sims.map(lambda x: x * user_ratings[i])\n",
      "C:\\Users\\фвьшт\\AppData\\Local\\Temp\\ipykernel_21892\\751595055.py:4: FutureWarning: Series.__getitem__ treating keys as positions is deprecated. In a future version, integer keys will always be treated as labels (consistent with DataFrame behavior). To access a value by position, use `ser.iloc[pos]`\n",
      "  sims = sims.map(lambda x: x * user_ratings[i])\n",
      "C:\\Users\\фвьшт\\AppData\\Local\\Temp\\ipykernel_21892\\751595055.py:4: FutureWarning: Series.__getitem__ treating keys as positions is deprecated. In a future version, integer keys will always be treated as labels (consistent with DataFrame behavior). To access a value by position, use `ser.iloc[pos]`\n",
      "  sims = sims.map(lambda x: x * user_ratings[i])\n",
      "C:\\Users\\фвьшт\\AppData\\Local\\Temp\\ipykernel_21892\\751595055.py:4: FutureWarning: Series.__getitem__ treating keys as positions is deprecated. In a future version, integer keys will always be treated as labels (consistent with DataFrame behavior). To access a value by position, use `ser.iloc[pos]`\n",
      "  sims = sims.map(lambda x: x * user_ratings[i])\n",
      "C:\\Users\\фвьшт\\AppData\\Local\\Temp\\ipykernel_21892\\751595055.py:4: FutureWarning: Series.__getitem__ treating keys as positions is deprecated. In a future version, integer keys will always be treated as labels (consistent with DataFrame behavior). To access a value by position, use `ser.iloc[pos]`\n",
      "  sims = sims.map(lambda x: x * user_ratings[i])\n",
      "C:\\Users\\фвьшт\\AppData\\Local\\Temp\\ipykernel_21892\\751595055.py:4: FutureWarning: Series.__getitem__ treating keys as positions is deprecated. In a future version, integer keys will always be treated as labels (consistent with DataFrame behavior). To access a value by position, use `ser.iloc[pos]`\n",
      "  sims = sims.map(lambda x: x * user_ratings[i])\n",
      "C:\\Users\\фвьшт\\AppData\\Local\\Temp\\ipykernel_21892\\751595055.py:4: FutureWarning: Series.__getitem__ treating keys as positions is deprecated. In a future version, integer keys will always be treated as labels (consistent with DataFrame behavior). To access a value by position, use `ser.iloc[pos]`\n",
      "  sims = sims.map(lambda x: x * user_ratings[i])\n",
      "C:\\Users\\фвьшт\\AppData\\Local\\Temp\\ipykernel_21892\\751595055.py:4: FutureWarning: Series.__getitem__ treating keys as positions is deprecated. In a future version, integer keys will always be treated as labels (consistent with DataFrame behavior). To access a value by position, use `ser.iloc[pos]`\n",
      "  sims = sims.map(lambda x: x * user_ratings[i])\n",
      "C:\\Users\\фвьшт\\AppData\\Local\\Temp\\ipykernel_21892\\751595055.py:4: FutureWarning: Series.__getitem__ treating keys as positions is deprecated. In a future version, integer keys will always be treated as labels (consistent with DataFrame behavior). To access a value by position, use `ser.iloc[pos]`\n",
      "  sims = sims.map(lambda x: x * user_ratings[i])\n",
      "C:\\Users\\фвьшт\\AppData\\Local\\Temp\\ipykernel_21892\\751595055.py:4: FutureWarning: Series.__getitem__ treating keys as positions is deprecated. In a future version, integer keys will always be treated as labels (consistent with DataFrame behavior). To access a value by position, use `ser.iloc[pos]`\n",
      "  sims = sims.map(lambda x: x * user_ratings[i])\n"
     ]
    }
   ],
   "source": [
    "simCandidates = pd.Series(dtype='float64')\n",
    "for i in range(0, len(user_ratings.index)):\n",
    "    sims = corr_matrix[user_ratings.index[i]].dropna()\n",
    "    sims = sims.map(lambda x: x * user_ratings[i])\n",
    "    simCandidates = pd.concat([simCandidates, sims])\n",
    "simCandidates.sort_values(inplace=True, ascending=False)"
   ]
  },
  {
   "cell_type": "code",
   "execution_count": 43,
   "id": "390d0b81",
   "metadata": {},
   "outputs": [
    {
     "data": {
      "text/plain": [
       "'Apollo 13 (1995)'"
      ]
     },
     "execution_count": 43,
     "metadata": {},
     "output_type": "execute_result"
    }
   ],
   "source": [
    "user_ratings.index[5]"
   ]
  },
  {
   "cell_type": "code",
   "execution_count": 44,
   "id": "0a217987",
   "metadata": {},
   "outputs": [
    {
     "data": {
      "text/plain": [
       "title\n",
       "Ace Ventura: Pet Detective (1994)       0.096976\n",
       "Aladdin (1992)                          0.321222\n",
       "Apollo 13 (1995)                        1.000000\n",
       "Batman (1989)                           0.075678\n",
       "Braveheart (1995)                       0.232201\n",
       "Dances with Wolves (1990)               0.252496\n",
       "Forrest Gump (1994)                     0.186355\n",
       "Fugitive, The (1993)                    0.355056\n",
       "Independence Day (a.k.a. ID4) (1996)    0.302946\n",
       "Jurassic Park (1993)                    0.309437\n",
       "Lion King, The (1994)                   0.316054\n",
       "Pulp Fiction (1994)                    -0.045333\n",
       "Schindler's List (1993)                 0.330132\n",
       "Seven (a.k.a. Se7en) (1995)             0.046390\n",
       "Shawshank Redemption, The (1994)        0.102889\n",
       "Silence of the Lambs, The (1991)        0.164643\n",
       "Speed (1994)                            0.311971\n",
       "Terminator 2: Judgment Day (1991)       0.399526\n",
       "Toy Story (1995)                        0.191449\n",
       "True Lies (1994)                        0.253759\n",
       "Name: Apollo 13 (1995), dtype: float64"
      ]
     },
     "execution_count": 44,
     "metadata": {},
     "output_type": "execute_result"
    }
   ],
   "source": [
    "corr_matrix[user_ratings.index[5]].dropna()"
   ]
  },
  {
   "cell_type": "code",
   "execution_count": 45,
   "id": "bb97fc03",
   "metadata": {},
   "outputs": [
    {
     "name": "stderr",
     "output_type": "stream",
     "text": [
      "C:\\Users\\фвьшт\\AppData\\Local\\Temp\\ipykernel_21892\\2761511157.py:1: FutureWarning: Series.__getitem__ treating keys as positions is deprecated. In a future version, integer keys will always be treated as labels (consistent with DataFrame behavior). To access a value by position, use `ser.iloc[pos]`\n",
      "  user_ratings[5]\n"
     ]
    },
    {
     "data": {
      "text/plain": [
       "4.5"
      ]
     },
     "execution_count": 45,
     "metadata": {},
     "output_type": "execute_result"
    }
   ],
   "source": [
    "user_ratings[5]"
   ]
  },
  {
   "cell_type": "code",
   "execution_count": 48,
   "id": "edd88580",
   "metadata": {},
   "outputs": [],
   "source": [
    "sims = corr_matrix[user_ratings.index[5]].dropna()"
   ]
  },
  {
   "cell_type": "code",
   "execution_count": 49,
   "id": "4c0c1bcc",
   "metadata": {},
   "outputs": [
    {
     "name": "stderr",
     "output_type": "stream",
     "text": [
      "C:\\Users\\фвьшт\\AppData\\Local\\Temp\\ipykernel_21892\\4198242996.py:1: FutureWarning: Series.__getitem__ treating keys as positions is deprecated. In a future version, integer keys will always be treated as labels (consistent with DataFrame behavior). To access a value by position, use `ser.iloc[pos]`\n",
      "  sims = sims.map(lambda x: x * user_ratings[5])\n"
     ]
    },
    {
     "data": {
      "text/plain": [
       "title\n",
       "Ace Ventura: Pet Detective (1994)       0.436391\n",
       "Aladdin (1992)                          1.445498\n",
       "Apollo 13 (1995)                        4.500000\n",
       "Batman (1989)                           0.340552\n",
       "Braveheart (1995)                       1.044904\n",
       "Dances with Wolves (1990)               1.136230\n",
       "Forrest Gump (1994)                     0.838598\n",
       "Fugitive, The (1993)                    1.597750\n",
       "Independence Day (a.k.a. ID4) (1996)    1.363258\n",
       "Jurassic Park (1993)                    1.392467\n",
       "Lion King, The (1994)                   1.422241\n",
       "Pulp Fiction (1994)                    -0.203999\n",
       "Schindler's List (1993)                 1.485596\n",
       "Seven (a.k.a. Se7en) (1995)             0.208755\n",
       "Shawshank Redemption, The (1994)        0.463001\n",
       "Silence of the Lambs, The (1991)        0.740894\n",
       "Speed (1994)                            1.403870\n",
       "Terminator 2: Judgment Day (1991)       1.797867\n",
       "Toy Story (1995)                        0.861521\n",
       "True Lies (1994)                        1.141915\n",
       "Name: Apollo 13 (1995), dtype: float64"
      ]
     },
     "execution_count": 49,
     "metadata": {},
     "output_type": "execute_result"
    }
   ],
   "source": [
    "sims = sims.map(lambda x: x * user_ratings[5])\n",
    "sims"
   ]
  },
  {
   "cell_type": "code",
   "execution_count": 52,
   "id": "fbf0309f",
   "metadata": {},
   "outputs": [
    {
     "data": {
      "text/plain": [
       "Silence of the Lambs, The (1991)             5.000000\n",
       "Back to the Future (1985)                    5.000000\n",
       "Terminator, The (1984)                       5.000000\n",
       "Forrest Gump (1994)                          5.000000\n",
       "Jurassic Park (1993)                         5.000000\n",
       "                                               ...   \n",
       "Pulp Fiction (1994)                         -0.376668\n",
       "Pulp Fiction (1994)                         -0.431635\n",
       "Twelve Monkeys (a.k.a. 12 Monkeys) (1995)   -0.474771\n",
       "Pulp Fiction (1994)                         -0.719040\n",
       "Fargo (1996)                                -0.801146\n",
       "Length: 697, dtype: float64"
      ]
     },
     "execution_count": 52,
     "metadata": {},
     "output_type": "execute_result"
    }
   ],
   "source": [
    "simCandidates"
   ]
  },
  {
   "cell_type": "code",
   "execution_count": 51,
   "id": "f606b551",
   "metadata": {},
   "outputs": [
    {
     "data": {
      "text/plain": [
       "Apollo 13 (1995)    4.500000\n",
       "Apollo 13 (1995)    1.547186\n",
       "Apollo 13 (1995)    1.363258\n",
       "Apollo 13 (1995)    0.998815\n",
       "Apollo 13 (1995)    0.963665\n",
       "Apollo 13 (1995)    0.931776\n",
       "Apollo 13 (1995)    0.861521\n",
       "Apollo 13 (1995)    0.823216\n",
       "Apollo 13 (1995)    0.761277\n",
       "Apollo 13 (1995)    0.227035\n",
       "dtype: float64"
      ]
     },
     "execution_count": 51,
     "metadata": {},
     "output_type": "execute_result"
    }
   ],
   "source": [
    "simCandidates['Apollo 13 (1995)']"
   ]
  },
  {
   "cell_type": "code",
   "execution_count": 53,
   "id": "a714b524",
   "metadata": {},
   "outputs": [],
   "source": [
    "simCandidates = simCandidates.groupby(simCandidates.index).sum()\n",
    "simCandidates.sort_values(inplace=True, ascending=False)"
   ]
  },
  {
   "cell_type": "code",
   "execution_count": 54,
   "id": "8a47946c",
   "metadata": {},
   "outputs": [],
   "source": [
    "intersection_set = set.intersection(set(simCandidates.index), set(user_ratings.index))\n",
    "not_watched = list(set(simCandidates.index) - set(user_ratings.index))"
   ]
  },
  {
   "cell_type": "code",
   "execution_count": 55,
   "id": "ef9b7eec",
   "metadata": {},
   "outputs": [
    {
     "name": "stdout",
     "output_type": "stream",
     "text": [
      "intersection:  47\n",
      "Not watched:  44\n"
     ]
    }
   ],
   "source": [
    "print(\"intersection: \", len(intersection_set))\n",
    "print(\"Not watched: \", len(not_watched))"
   ]
  },
  {
   "cell_type": "code",
   "execution_count": 57,
   "id": "723c28f6",
   "metadata": {},
   "outputs": [
    {
     "data": {
      "text/plain": [
       "Matrix, The (1999)                                                                30.707095\n",
       "Raiders of the Lost Ark (Indiana Jones and the Raiders of the Lost Ark) (1981)    22.002139\n",
       "Shawshank Redemption, The (1994)                                                  18.925514\n",
       "dtype: float64"
      ]
     },
     "execution_count": 57,
     "metadata": {},
     "output_type": "execute_result"
    }
   ],
   "source": [
    "filteredSims = simCandidates[not_watched].sort_values(ascending=False)[:3]\n",
    "filteredSims"
   ]
  }
 ],
 "metadata": {
  "kernelspec": {
   "display_name": "Python 3",
   "language": "python",
   "name": "python3"
  },
  "language_info": {
   "codemirror_mode": {
    "name": "ipython",
    "version": 3
   },
   "file_extension": ".py",
   "mimetype": "text/x-python",
   "name": "python",
   "nbconvert_exporter": "python",
   "pygments_lexer": "ipython3",
   "version": "3.11.7"
  }
 },
 "nbformat": 4,
 "nbformat_minor": 5
}
